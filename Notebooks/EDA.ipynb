{
 "cells": [
  {
   "cell_type": "code",
   "execution_count": null,
   "metadata": {},
   "outputs": [],
   "source": [
    "import pandas as pd\n",
    "import numpy as np\n",
    "import plotly.express as px\n",
    "from scipy import stats as st"
   ]
  },
  {
   "cell_type": "code",
   "execution_count": null,
   "metadata": {},
   "outputs": [],
   "source": [
    "crashes = pd.read_csv('C:\\\\Users\\\\moise\\\\OneDrive\\\\Documents\\\\GitHub\\\\Sprint-4\\\\crashdata2011-2020.csv', sep=',')\n",
    "display(crashes)"
   ]
  },
  {
   "cell_type": "code",
   "execution_count": null,
   "metadata": {},
   "outputs": [],
   "source": [
    "crashes.info()\n",
    "crashes.describe()"
   ]
  },
  {
   "cell_type": "code",
   "execution_count": null,
   "metadata": {},
   "outputs": [],
   "source": [
    "# getting rid of unnecessary columns\n",
    "columns_to_drop = ['Name', 'TcrNumber', 'ProximityToIntersection', 'DirectionFromIntersection', 'Comment', 'ShortFormFlag', 'Distance', 'PedestrianDirectionFrom', 'PedestrianDirectionTo']\n",
    "crashes = crashes.drop(columns_to_drop, axis=1)\n",
    "#changing CrashDateTime to datetime data type\n",
    "crashes['CrashDateTime'] = pd.to_datetime(crashes['CrashDateTime'], format='%m/%d/%Y %H:%M')\n",
    "crashes.info()"
   ]
  },
  {
   "cell_type": "code",
   "execution_count": null,
   "metadata": {},
   "outputs": [],
   "source": [
    "display(crashes)"
   ]
  },
  {
   "cell_type": "code",
   "execution_count": null,
   "metadata": {},
   "outputs": [],
   "source": [
    "crashes['CrashTime'] = crashes['CrashDateTime'].dt.hour\n",
    "\n",
    "fig = px.histogram(crashes, x=\"CrashTime\", nbins=24, \n",
    "                   labels={'CrashDateTime': 'Time of Day', 'count': 'Crash Count'},\n",
    "                   title='Histogram of Car Crashes Throughout the Day',\n",
    "                   color_discrete_sequence=['darkblue'])\n",
    "fig.update_traces(marker_line_color=\"black\", marker_line_width=1)\n",
    "fig.show()"
   ]
  }
 ],
 "metadata": {
  "kernelspec": {
   "display_name": "base",
   "language": "python",
   "name": "python3"
  },
  "language_info": {
   "codemirror_mode": {
    "name": "ipython",
    "version": 3
   },
   "file_extension": ".py",
   "mimetype": "text/x-python",
   "name": "python",
   "nbconvert_exporter": "python",
   "pygments_lexer": "ipython3",
   "version": "3.9.13"
  },
  "orig_nbformat": 4
 },
 "nbformat": 4,
 "nbformat_minor": 2
}
